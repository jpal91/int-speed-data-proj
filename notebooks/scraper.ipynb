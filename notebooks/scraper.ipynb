{
 "cells": [
  {
   "cell_type": "code",
   "execution_count": 3,
   "id": "99b2ddff-0087-4f1a-8eca-509baef07e15",
   "metadata": {},
   "outputs": [],
   "source": [
    "%load_ext autoreload\n",
    "%autoreload 2"
   ]
  },
  {
   "cell_type": "code",
   "execution_count": 30,
   "id": "757e14a7-f9ec-4357-8e28-a14c60991645",
   "metadata": {},
   "outputs": [],
   "source": [
    "import os\n",
    "import sys\n",
    "import time\n",
    "from selenium import webdriver\n",
    "from selenium.webdriver.support.wait import WebDriverWait\n",
    "from webdriver_manager.chrome import ChromeDriverManager\n",
    "from selenium.webdriver.common.by import By\n",
    "from selenium.webdriver.support.ui import Select\n",
    "from IPython.display import clear_output\n",
    "\n",
    "class Client:\n",
    "    def __init__(self):\n",
    "        self.client = None\n",
    "        self.wait_driver = None\n",
    "        \n",
    "    def create_client(self, options={}):\n",
    "        if self.client:\n",
    "            return\n",
    "        \n",
    "        options = webdriver.ChromeOptions()\n",
    "        options.add_argument('--start-maximized')\n",
    "        self.client = webdriver.Chrome(ChromeDriverManager().install(), options=options)\n",
    "        self.client.implicitly_wait(15)\n",
    "        self.wait_driver = WebDriverWait(self.client, timeout=10)\n",
    "        \n",
    "        return self.client\n",
    "    \n",
    "    def close_client(self):\n",
    "        if not self.client:\n",
    "            return\n",
    "        \n",
    "        self.client.quit()\n",
    "\n",
    "class Scraper(Client):\n",
    "    \n",
    "    def __init__(self):\n",
    "        super().__init__()\n",
    "    \n",
    "    def get_data(self):\n",
    "        if not self.client:\n",
    "            cli = self.create_client()\n",
    "        else:\n",
    "            cli = self.client\n",
    "            \n",
    "        cli.get('https://broadbandmap.fcc.gov/data-download/nationwide-data')\n",
    "        select = Select(cli.find_element(By.ID, 'state'))\n",
    "        #52\n",
    "        for i in range(3, 52):\n",
    "            clear_output()\n",
    "            print(i)\n",
    "            \n",
    "            select.select_by_index(i)\n",
    "        \n",
    "            divs = cli.find_elements(By.CSS_SELECTOR, 'div.border.rounded.p-3.h-100')\n",
    "\n",
    "            target= divs[0]\n",
    "        \n",
    "            table = target.find_elements(By.CSS_SELECTOR, 'tbody tr')\n",
    "            \n",
    "            for t in table:\n",
    "                if 'Cable' in t.text or 'Fiber' in t.text:\n",
    "                    t.find_element(By.TAG_NAME, 'button').click()\n",
    "                    time.sleep(2)\n",
    "\n",
    "    \n",
    "        \n",
    "\n",
    "        "
   ]
  },
  {
   "cell_type": "code",
   "execution_count": 31,
   "id": "1ed4c84d-6163-4863-a30f-921116b27bcf",
   "metadata": {},
   "outputs": [],
   "source": [
    "scrape = Scraper()"
   ]
  },
  {
   "cell_type": "code",
   "execution_count": 32,
   "id": "331004d9-92ef-4dcd-a836-64da528b1699",
   "metadata": {},
   "outputs": [
    {
     "name": "stdout",
     "output_type": "stream",
     "text": [
      "51\n"
     ]
    }
   ],
   "source": [
    "scrape.create_client()\n",
    "scrape.get_data()\n",
    "scrape.close_client()"
   ]
  },
  {
   "cell_type": "code",
   "execution_count": null,
   "id": "e8c5f068-fdd4-494a-a3a3-486d89c804ec",
   "metadata": {},
   "outputs": [],
   "source": []
  },
  {
   "cell_type": "markdown",
   "id": "4973ac00-63ce-4b8b-a9c1-a2953f1c7344",
   "metadata": {},
   "source": [
    "### Extract Geography Zip\n",
    "One time extraction of the zip file containing geography data to correspond with each CSV's provider id\n",
    "\n",
    "Will be used to match the provider ids in the main data with human readable location\n",
    "\n",
    "Since this is only one zip file, this wasn't really necessary, but I used it as a test for the other data sets to make sure the code worked"
   ]
  },
  {
   "cell_type": "code",
   "execution_count": 21,
   "id": "8cdabd82-cce1-44c4-9360-f5dbafb411c9",
   "metadata": {},
   "outputs": [],
   "source": [
    "from zipfile import ZipFile\n",
    "\n",
    "directory = os.path.abspath('../GEO-DATA')\n",
    "d_list = os.listdir(directory)\n",
    "\n",
    "for d in d_list:\n",
    "    f_path = f'{directory}/{d}'\n",
    "\n",
    "    with ZipFile(f_path, 'r') as file:\n",
    "        file.extractall(path=directory)\n",
    "    \n",
    "    os.remove(f_path)"
   ]
  },
  {
   "cell_type": "code",
   "execution_count": null,
   "id": "d2ebcdd4-5477-4f69-9aa5-920a581c2d00",
   "metadata": {},
   "outputs": [],
   "source": []
  },
  {
   "cell_type": "markdown",
   "id": "475172a2-9a50-4cad-ac95-4cafcba4db23",
   "metadata": {},
   "source": [
    "### Create Fips Code JSON\n",
    "To assist in renaming the files, a fips table was copied from online and turned into json"
   ]
  },
  {
   "cell_type": "code",
   "execution_count": 68,
   "id": "e235389c-d60b-42ea-9bae-e5a5932e8f5a",
   "metadata": {},
   "outputs": [],
   "source": [
    "import json\n",
    "with open('../misc/fips.txt') as file:\n",
    "    lines = file.readlines()\n",
    "    obj = {}\n",
    "    for line in lines:\n",
    "        key = line[:2]\n",
    "        val = line[2:].strip()\n",
    "        obj[key] = val\n",
    "    \n",
    "with open('../misc/fips.json', 'w') as file:\n",
    "    j = json.dumps(obj, indent=3)\n",
    "    \n",
    "    file.write(j)"
   ]
  },
  {
   "cell_type": "code",
   "execution_count": null,
   "id": "0983cebc-e0a7-4555-9788-7518b58fa779",
   "metadata": {},
   "outputs": [],
   "source": []
  },
  {
   "cell_type": "markdown",
   "id": "d94a2c60-5e05-430a-a012-8dc2ce52cd12",
   "metadata": {
    "tags": []
   },
   "source": [
    "### Extract Cable/Fiber Zips\n",
    "Extracts each zip downloaded, renames according to the fips code and if it's cable or fiber data"
   ]
  },
  {
   "cell_type": "code",
   "execution_count": 33,
   "id": "608cbc41-0e6c-4cd6-9d78-17b9a8c69922",
   "metadata": {},
   "outputs": [],
   "source": [
    "import json\n",
    "\n",
    "fip_path = os.path.abspath('../misc/fips.json')\n",
    "\n",
    "with open(fip_path, 'r') as file:\n",
    "    obj = json.loads(file.read())\n",
    "\n",
    "d_path = os.path.abspath('../FCC-DATA')\n",
    "directory = os.listdir(d_path)\n",
    "\n",
    "for d in directory:\n",
    "    if d[-3:] != 'zip':\n",
    "        continue\n",
    "        \n",
    "    fip = d[4:6]\n",
    "    f_path = f'{d_path}/{d}'\n",
    "    \n",
    "    if fip not in obj:\n",
    "        continue\n",
    "    \n",
    "    if 'Cable' in d:\n",
    "        with ZipFile(f_path, 'r') as zip:\n",
    "            f_name = zip.namelist()[0]\n",
    "            zip.extractall(path=d_path)\n",
    "        \n",
    "        os.rename(f'{d_path}/{f_name}', f'{d_path}/{obj[fip]}_cable.csv')\n",
    "            \n",
    "    elif 'Fiber' in d:\n",
    "        with ZipFile(f_path, 'r') as zip:\n",
    "            f_name = zip.namelist()[0]\n",
    "            zip.extractall(path=d_path)\n",
    "        \n",
    "        os.rename(f'{d_path}/{f_name}', f'{d_path}/{obj[fip]}_fiber.csv')\n",
    "    \n",
    "\n"
   ]
  },
  {
   "cell_type": "code",
   "execution_count": null,
   "id": "933bc6b3-b1c7-4980-a8d1-af10a9a2ac90",
   "metadata": {},
   "outputs": [],
   "source": []
  },
  {
   "cell_type": "markdown",
   "id": "4bad3f86-e877-4761-a457-2328ce79b6de",
   "metadata": {},
   "source": [
    "### Check to make sure I have all the data\n",
    "I should have 2 csvs for every state for a total of 51 entries (including DC)"
   ]
  },
  {
   "cell_type": "code",
   "execution_count": null,
   "id": "61d5dbd7-678d-40f5-aa7c-5922c8c7bce1",
   "metadata": {},
   "outputs": [],
   "source": [
    "from collections import defaultdict\n",
    "from pprint import pprint\n",
    "\n",
    "d_path = os.path.abspath('../FCC-DATA')\n",
    "directory = os.listdir(d_path)\n",
    "\n",
    "state_dict = defaultdict(int)\n",
    "\n",
    "for d in directory:\n",
    "    if d[-3:] != 'csv':\n",
    "        continue\n",
    "        \n",
    "    idx = d.index('_')\n",
    "    state_name = d[:idx]\n",
    "    \n",
    "    state_dict[state_name] += 1\n",
    "\n",
    "pprint(state_dict)\n",
    "print(len(state_dict))"
   ]
  },
  {
   "cell_type": "code",
   "execution_count": null,
   "id": "3cbaeeb1-f49e-4b4f-8e77-ed84fef30999",
   "metadata": {},
   "outputs": [],
   "source": []
  },
  {
   "cell_type": "markdown",
   "id": "02ff5862-6f57-4f7e-9da3-74002ea58aae",
   "metadata": {},
   "source": [
    "### Remove the zip files"
   ]
  },
  {
   "cell_type": "code",
   "execution_count": 37,
   "id": "4f9c7793-7ba8-41ea-9280-d2cb8559c316",
   "metadata": {},
   "outputs": [],
   "source": [
    "d_path = os.path.abspath('../FCC-DATA')\n",
    "directory = os.listdir(d_path)\n",
    "\n",
    "for d in directory:\n",
    "    if d[-3:] != 'zip':\n",
    "        continue\n",
    "    \n",
    "    os.remove(f'{d_path}/{d}')"
   ]
  },
  {
   "cell_type": "code",
   "execution_count": 10,
   "id": "772ee334-d7a0-4544-a678-e72678be75ab",
   "metadata": {},
   "outputs": [
    {
     "data": {
      "text/html": [
       "\n",
       "                <audio  controls=\"controls\" autoplay=\"autoplay\">\n",
       "                    <source src=\"data:audio/x-wav;base64,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\" type=\"audio/x-wav\" />\n",
       "                    Your browser does not support the audio element.\n",
       "                </audio>\n",
       "              "
      ],
      "text/plain": [
       "<IPython.lib.display.Audio object>"
      ]
     },
     "execution_count": 10,
     "metadata": {},
     "output_type": "execute_result"
    }
   ],
   "source": [
    "from IPython.lib.display import Audio\n",
    "import numpy as np\n",
    "\n",
    "framerate = 4410\n",
    "play_time_seconds = 3\n",
    "\n",
    "t = np.linspace(0, play_time_seconds, framerate*play_time_seconds)\n",
    "# audio_data = np.sin(2*np.pi*300*t) + np.sin(2*np.pi*240*t)\n",
    "audio_data = np.sin(2*np.pi*400*np.arange(10000*2)/10000)\n",
    "Audio('beep.wav', rate = framerate, autoplay=True)"
   ]
  },
  {
   "cell_type": "code",
   "execution_count": null,
   "id": "79d7ad88-2b0a-4425-87ac-6409f433e9b9",
   "metadata": {},
   "outputs": [],
   "source": []
  },
  {
   "cell_type": "code",
   "execution_count": 42,
   "id": "861a47ba-1a27-4089-a58a-a04aeaf99fc1",
   "metadata": {},
   "outputs": [],
   "source": [
    "import os\n",
    "import sys\n",
    "import time\n",
    "import requests\n",
    "from selenium import webdriver\n",
    "from selenium.webdriver.support.wait import WebDriverWait\n",
    "from webdriver_manager.chrome import ChromeDriverManager\n",
    "from selenium.webdriver.common.by import By\n",
    "from selenium.webdriver.support.ui import Select\n",
    "from IPython.display import clear_output\n",
    "\n",
    "class Client:\n",
    "    def __init__(self):\n",
    "        self.client = None\n",
    "        self.wait_driver = None\n",
    "        \n",
    "    def create_client(self, options={}):\n",
    "        if self.client:\n",
    "            return\n",
    "        \n",
    "        options = webdriver.ChromeOptions()\n",
    "        options.add_argument('--start-maximized')\n",
    "        self.client = webdriver.Chrome(ChromeDriverManager().install(), options=options)\n",
    "        self.client.implicitly_wait(15)\n",
    "        self.wait_driver = WebDriverWait(self.client, timeout=10)\n",
    "        \n",
    "        return self.client\n",
    "    \n",
    "    def close_client(self):\n",
    "        if not self.client:\n",
    "            return\n",
    "        \n",
    "        self.client.quit()\n",
    "\n",
    "class Scraper(Client):\n",
    "    \n",
    "    def __init__(self):\n",
    "        super().__init__()\n",
    "    \n",
    "    def get_data(self):\n",
    "        if not self.client:\n",
    "            cli = self.create_client()\n",
    "        else:\n",
    "            cli = self.client\n",
    "            \n",
    "        cli.get('https://broadbandmap.fcc.gov/data-download/nationwide-data')\n",
    "        select = Select(cli.find_element(By.ID, 'state'))\n",
    "        #52\n",
    "        for i in range(3, 52):\n",
    "            clear_output()\n",
    "            print(i)\n",
    "            \n",
    "            select.select_by_index(i)\n",
    "        \n",
    "            divs = cli.find_elements(By.CSS_SELECTOR, 'div.border.rounded.p-3.h-100')\n",
    "\n",
    "            target= divs[0]\n",
    "        \n",
    "            table = target.find_elements(By.CSS_SELECTOR, 'tbody tr')\n",
    "            \n",
    "            for t in table:\n",
    "                if 'Cable' in t.text or 'Fiber' in t.text:\n",
    "                    t.find_element(By.TAG_NAME, 'button').click()\n",
    "                    time.sleep(2)\n",
    "    \n",
    "    def get_name_data(self):\n",
    "        if not self.client:\n",
    "            cli = self.create_client()\n",
    "        else:\n",
    "            cli = self.client\n",
    "        \n",
    "        cli.get('https://www2.census.gov/geo/docs/maps-data/data/nlt2020/')\n",
    "        list_items = cli.find_elements(By.TAG_NAME, 'a')\n",
    "        \n",
    "        for l in list_items:\n",
    "            if 'zip' not in l.text:\n",
    "                continue\n",
    "            l.click()\n",
    "            time.sleep(2)\n",
    "\n",
    "        \n",
    "        self.close_client()\n",
    "    \n",
    "    def get_block_data(self):\n",
    "        if not self.client:\n",
    "            cli = self.create_client()\n",
    "        else:\n",
    "            cli = self.client\n",
    "        \n",
    "        cli.get('https://www2.census.gov/geo/docs/maps-data/data/baf2020/')\n",
    "        list_items = cli.find_elements(By.TAG_NAME, 'a')\n",
    "        \n",
    "        for l in list_items:\n",
    "            if 'zip' not in l.text:\n",
    "                continue\n",
    "            l.click()\n",
    "            time.sleep(2)\n",
    "\n",
    "        \n",
    "        self.close_client()\n",
    "        \n",
    "        "
   ]
  },
  {
   "cell_type": "code",
   "execution_count": 43,
   "id": "72d75909-a2cf-4e8b-9bf5-f4c1d00f20a5",
   "metadata": {},
   "outputs": [
    {
     "name": "stderr",
     "output_type": "stream",
     "text": [
      "[WDM] - Downloading: 100%|████████████████████████████████████████████████████████████████████████████████████████████| 7.26M/7.26M [00:00<00:00, 9.82MB/s]\n"
     ]
    }
   ],
   "source": [
    "s = Scraper()\n",
    "# s.get_name_data()\n",
    "s.get_block_data()"
   ]
  },
  {
   "cell_type": "code",
   "execution_count": null,
   "id": "b32f7fc7-fc41-4a1f-8b40-eb7460757e45",
   "metadata": {},
   "outputs": [],
   "source": []
  },
  {
   "cell_type": "code",
   "execution_count": 1,
   "id": "8abe6213-77cd-4b52-9d7f-4bfd25b8bc86",
   "metadata": {},
   "outputs": [],
   "source": [
    "import os\n",
    "from zipfile import ZipFile\n",
    "\n",
    "d_path = os.path.abspath('../NAME-DATA')\n",
    "zips = os.listdir(d_path)\n",
    "\n",
    "for z in zips:\n",
    "    if z[-3:] != 'zip':\n",
    "        continue\n",
    "    \n",
    "    pref, state = z[:-4], z[-6:-4]\n",
    "    f1, f2, new_dir = pref + '_CDP.txt', pref + '_INCPLACE.txt', f'{d_path}/{state}'\n",
    "    \n",
    "    if state == 'PR' or os.path.exists(new_dir):\n",
    "        continue\n",
    "\n",
    "    with ZipFile(f'{d_path}/{z}') as arch:\n",
    "        try:\n",
    "            if state != 'DC':\n",
    "                arch.extract(f1, path=new_dir)\n",
    "                arch.extract(f2, path=new_dir)\n",
    "            else:\n",
    "                arch.extract(f2, path=new_dir)\n",
    "        except KeyError as k:\n",
    "            print(state, k)\n",
    "    \n",
    "    os.remove(f'{d_path}/{z}')\n",
    "    \n"
   ]
  },
  {
   "cell_type": "code",
   "execution_count": null,
   "id": "2a5ac14f-3056-4532-ac0f-906d6387a928",
   "metadata": {},
   "outputs": [],
   "source": []
  },
  {
   "cell_type": "code",
   "execution_count": 44,
   "id": "c98565e9-2b6f-4408-abaf-c531fe146122",
   "metadata": {},
   "outputs": [],
   "source": [
    "d_path = os.path.abspath('../BLOCK-DATA')\n",
    "zips = os.listdir(d_path)\n",
    "\n",
    "for z in zips:\n",
    "    if z[-3:] != 'zip':\n",
    "        continue\n",
    "    \n",
    "    pref, state = z[:-4], z[-6:-4]\n",
    "    f1, new_dir = pref + '_INCPLACE_CDP.txt', f'{d_path}/{state}'\n",
    "    \n",
    "    if state == 'PR' or os.path.exists(new_dir):\n",
    "        continue\n",
    "\n",
    "    with ZipFile(f'{d_path}/{z}') as arch:\n",
    "        try:\n",
    "            arch.extract(f1, path=new_dir)\n",
    "        except KeyError as k:\n",
    "            print(state, k)\n",
    "    \n",
    "    os.remove(f'{d_path}/{z}')\n",
    "    \n"
   ]
  },
  {
   "cell_type": "code",
   "execution_count": null,
   "id": "0092c83b-f947-4539-94be-8ba39fcd4330",
   "metadata": {},
   "outputs": [],
   "source": []
  }
 ],
 "metadata": {
  "kernelspec": {
   "display_name": "Python 3 (ipykernel)",
   "language": "python",
   "name": "python3"
  },
  "language_info": {
   "codemirror_mode": {
    "name": "ipython",
    "version": 3
   },
   "file_extension": ".py",
   "mimetype": "text/x-python",
   "name": "python",
   "nbconvert_exporter": "python",
   "pygments_lexer": "ipython3",
   "version": "3.10.8"
  }
 },
 "nbformat": 4,
 "nbformat_minor": 5
}
