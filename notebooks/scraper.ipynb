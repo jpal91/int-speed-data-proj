{
 "cells": [
  {
   "cell_type": "code",
   "execution_count": 2,
   "id": "99b2ddff-0087-4f1a-8eca-509baef07e15",
   "metadata": {},
   "outputs": [
    {
     "name": "stdout",
     "output_type": "stream",
     "text": [
      "The autoreload extension is already loaded. To reload it, use:\n",
      "  %reload_ext autoreload\n"
     ]
    }
   ],
   "source": [
    "%load_ext autoreload\n",
    "%autoreload 2"
   ]
  },
  {
   "cell_type": "code",
   "execution_count": 63,
   "id": "757e14a7-f9ec-4357-8e28-a14c60991645",
   "metadata": {},
   "outputs": [],
   "source": [
    "import os\n",
    "import sys\n",
    "import time\n",
    "from selenium import webdriver\n",
    "from selenium.webdriver.support.wait import WebDriverWait\n",
    "from webdriver_manager.chrome import ChromeDriverManager\n",
    "from selenium.webdriver.common.by import By\n",
    "from selenium.webdriver.support.ui import Select\n",
    "from IPython.display import clear_output\n",
    "\n",
    "class Client:\n",
    "    def __init__(self):\n",
    "        self.client = None\n",
    "        self.wait_driver = None\n",
    "        \n",
    "    def create_client(self, options={}):\n",
    "        if self.client:\n",
    "            return\n",
    "        \n",
    "        options = webdriver.ChromeOptions()\n",
    "        self.client = webdriver.Chrome(ChromeDriverManager().install(), options=options)\n",
    "        self.client.implicitly_wait(15)\n",
    "        self.wait_driver = WebDriverWait(self.client, timeout=10)\n",
    "        \n",
    "        return self.client\n",
    "    \n",
    "    def close_client(self):\n",
    "        if not self.client:\n",
    "            return\n",
    "        \n",
    "        self.client.quit()\n",
    "\n",
    "class Scraper(Client):\n",
    "    \n",
    "    def __init__(self):\n",
    "        super().__init__()\n",
    "    \n",
    "    def get_data(self):\n",
    "        if not self.client:\n",
    "            cli = self.create_client()\n",
    "        else:\n",
    "            cli = self.client\n",
    "            \n",
    "        cli.get('https://broadbandmap.fcc.gov/data-download/nationwide-data')\n",
    "        select = Select(cli.find_element(By.ID, 'state'))\n",
    "        #52\n",
    "        for i in range(1, 5):\n",
    "            select.select_by_index(i)\n",
    "        \n",
    "            divs = cli.find_elements(By.CSS_SELECTOR, 'div.border.rounded.p-3.h-100')\n",
    "\n",
    "            # for d in divs:\n",
    "            #     txt = d.find_element(By.TAG_NAME, 'h2').text\n",
    "            #     print(txt)\n",
    "            #     if txt == \"Fixed Broadband Availability Data\":\n",
    "            #         target = d\n",
    "            #         break\n",
    "            target = divs[0]\n",
    "        \n",
    "            table = target.find_elements(By.CSS_SELECTOR, 'tbody tr')\n",
    "            \n",
    "            for t in table:\n",
    "                if 'Cable' in t.text or 'Fiber' in t.text:\n",
    "                    t.find_element(By.TAG_NAME, 'button').click()\n",
    "                    time.sleep(2)\n",
    "\n",
    "        # table[0].find_element(By.TAG_NAME, 'button').click()\n",
    "        time.sleep(10)\n",
    "    \n",
    "        \n",
    "        \n",
    "        "
   ]
  },
  {
   "cell_type": "code",
   "execution_count": 64,
   "id": "1ed4c84d-6163-4863-a30f-921116b27bcf",
   "metadata": {},
   "outputs": [],
   "source": [
    "scrape = Scraper()"
   ]
  },
  {
   "cell_type": "code",
   "execution_count": 65,
   "id": "331004d9-92ef-4dcd-a836-64da528b1699",
   "metadata": {},
   "outputs": [],
   "source": [
    "scrape.create_client()\n",
    "scrape.get_data()\n",
    "scrape.close_client()"
   ]
  },
  {
   "cell_type": "code",
   "execution_count": 68,
   "id": "e235389c-d60b-42ea-9bae-e5a5932e8f5a",
   "metadata": {},
   "outputs": [],
   "source": [
    "import json\n",
    "with open('../misc/fips.txt') as file:\n",
    "    lines = file.readlines()\n",
    "    obj = {}\n",
    "    for line in lines:\n",
    "        key = line[:2]\n",
    "        val = line[2:].strip()\n",
    "        obj[key] = val\n",
    "    \n",
    "with open('../misc/fips.json', 'w') as file:\n",
    "    j = json.dumps(obj, indent=3)\n",
    "    \n",
    "    file.write(j)"
   ]
  },
  {
   "cell_type": "code",
   "execution_count": 73,
   "id": "608cbc41-0e6c-4cd6-9d78-17b9a8c69922",
   "metadata": {},
   "outputs": [],
   "source": [
    "import os\n",
    "\n",
    "with open('../misc/fips.json', 'r') as file:\n",
    "    obj = json.loads(file.read())\n",
    "\n",
    "# os.rename('../misc/test.txt', '../misc/done.txt')\n",
    "\n",
    "direct = os.listdir('../FCC-DATA')\n",
    "\n",
    "for d in direct:\n",
    "    fip = d[4:6]\n",
    "    os.rename(f'../FCC-DATA/{d}', f'../FCC-DATA/{obj[fip]}.zip')\n"
   ]
  },
  {
   "cell_type": "code",
   "execution_count": null,
   "id": "5005fd23-023a-4290-86ae-8904f08c8baa",
   "metadata": {},
   "outputs": [],
   "source": []
  }
 ],
 "metadata": {
  "kernelspec": {
   "display_name": "Python 3 (ipykernel)",
   "language": "python",
   "name": "python3"
  },
  "language_info": {
   "codemirror_mode": {
    "name": "ipython",
    "version": 3
   },
   "file_extension": ".py",
   "mimetype": "text/x-python",
   "name": "python",
   "nbconvert_exporter": "python",
   "pygments_lexer": "ipython3",
   "version": "3.10.8"
  }
 },
 "nbformat": 4,
 "nbformat_minor": 5
}
