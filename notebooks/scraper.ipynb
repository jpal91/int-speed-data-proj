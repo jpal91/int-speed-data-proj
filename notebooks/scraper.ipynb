{
 "cells": [
  {
   "cell_type": "code",
   "execution_count": 3,
   "id": "99b2ddff-0087-4f1a-8eca-509baef07e15",
   "metadata": {},
   "outputs": [],
   "source": [
    "%load_ext autoreload\n",
    "%autoreload 2"
   ]
  },
  {
   "cell_type": "code",
   "execution_count": 30,
   "id": "757e14a7-f9ec-4357-8e28-a14c60991645",
   "metadata": {},
   "outputs": [],
   "source": [
    "import os\n",
    "import sys\n",
    "import time\n",
    "from selenium import webdriver\n",
    "from selenium.webdriver.support.wait import WebDriverWait\n",
    "from webdriver_manager.chrome import ChromeDriverManager\n",
    "from selenium.webdriver.common.by import By\n",
    "from selenium.webdriver.support.ui import Select\n",
    "from IPython.display import clear_output\n",
    "\n",
    "class Client:\n",
    "    def __init__(self):\n",
    "        self.client = None\n",
    "        self.wait_driver = None\n",
    "        \n",
    "    def create_client(self, options={}):\n",
    "        if self.client:\n",
    "            return\n",
    "        \n",
    "        options = webdriver.ChromeOptions()\n",
    "        options.add_argument('--start-maximized')\n",
    "        self.client = webdriver.Chrome(ChromeDriverManager().install(), options=options)\n",
    "        self.client.implicitly_wait(15)\n",
    "        self.wait_driver = WebDriverWait(self.client, timeout=10)\n",
    "        \n",
    "        return self.client\n",
    "    \n",
    "    def close_client(self):\n",
    "        if not self.client:\n",
    "            return\n",
    "        \n",
    "        self.client.quit()\n",
    "\n",
    "class Scraper(Client):\n",
    "    \n",
    "    def __init__(self):\n",
    "        super().__init__()\n",
    "    \n",
    "    def get_data(self):\n",
    "        if not self.client:\n",
    "            cli = self.create_client()\n",
    "        else:\n",
    "            cli = self.client\n",
    "            \n",
    "        cli.get('https://broadbandmap.fcc.gov/data-download/nationwide-data')\n",
    "        select = Select(cli.find_element(By.ID, 'state'))\n",
    "        #52\n",
    "        for i in range(3, 52):\n",
    "            clear_output()\n",
    "            print(i)\n",
    "            \n",
    "            select.select_by_index(i)\n",
    "        \n",
    "            divs = cli.find_elements(By.CSS_SELECTOR, 'div.border.rounded.p-3.h-100')\n",
    "\n",
    "            target= divs[0]\n",
    "        \n",
    "            table = target.find_elements(By.CSS_SELECTOR, 'tbody tr')\n",
    "            \n",
    "            for t in table:\n",
    "                if 'Cable' in t.text or 'Fiber' in t.text:\n",
    "                    t.find_element(By.TAG_NAME, 'button').click()\n",
    "                    time.sleep(2)\n",
    "\n",
    "    \n",
    "        \n",
    "\n",
    "        "
   ]
  },
  {
   "cell_type": "code",
   "execution_count": 31,
   "id": "1ed4c84d-6163-4863-a30f-921116b27bcf",
   "metadata": {},
   "outputs": [],
   "source": [
    "scrape = Scraper()"
   ]
  },
  {
   "cell_type": "code",
   "execution_count": 32,
   "id": "331004d9-92ef-4dcd-a836-64da528b1699",
   "metadata": {},
   "outputs": [
    {
     "name": "stdout",
     "output_type": "stream",
     "text": [
      "51\n"
     ]
    }
   ],
   "source": [
    "scrape.create_client()\n",
    "scrape.get_data()\n",
    "scrape.close_client()"
   ]
  },
  {
   "cell_type": "code",
   "execution_count": null,
   "id": "e8c5f068-fdd4-494a-a3a3-486d89c804ec",
   "metadata": {},
   "outputs": [],
   "source": []
  },
  {
   "cell_type": "markdown",
   "id": "4973ac00-63ce-4b8b-a9c1-a2953f1c7344",
   "metadata": {},
   "source": [
    "### Extract Geography Zip\n",
    "One time extraction of the zip file containing geography data to correspond with each CSV's provider id\n",
    "\n",
    "Will be used to match the provider ids in the main data with human readable location\n",
    "\n",
    "Since this is only one zip file, this wasn't really necessary, but I used it as a test for the other data sets to make sure the code worked"
   ]
  },
  {
   "cell_type": "code",
   "execution_count": 21,
   "id": "8cdabd82-cce1-44c4-9360-f5dbafb411c9",
   "metadata": {},
   "outputs": [],
   "source": [
    "from zipfile import ZipFile\n",
    "\n",
    "directory = os.path.abspath('../GEO-DATA')\n",
    "d_list = os.listdir(directory)\n",
    "\n",
    "for d in d_list:\n",
    "    f_path = f'{directory}/{d}'\n",
    "\n",
    "    with ZipFile(f_path, 'r') as file:\n",
    "        file.extractall(path=directory)\n",
    "    \n",
    "    os.remove(f_path)"
   ]
  },
  {
   "cell_type": "code",
   "execution_count": null,
   "id": "d2ebcdd4-5477-4f69-9aa5-920a581c2d00",
   "metadata": {},
   "outputs": [],
   "source": []
  },
  {
   "cell_type": "markdown",
   "id": "475172a2-9a50-4cad-ac95-4cafcba4db23",
   "metadata": {},
   "source": [
    "### Create Fips Code JSON\n",
    "To assist in renaming the files, a fips table was copied from online and turned into json"
   ]
  },
  {
   "cell_type": "code",
   "execution_count": 68,
   "id": "e235389c-d60b-42ea-9bae-e5a5932e8f5a",
   "metadata": {},
   "outputs": [],
   "source": [
    "import json\n",
    "with open('../misc/fips.txt') as file:\n",
    "    lines = file.readlines()\n",
    "    obj = {}\n",
    "    for line in lines:\n",
    "        key = line[:2]\n",
    "        val = line[2:].strip()\n",
    "        obj[key] = val\n",
    "    \n",
    "with open('../misc/fips.json', 'w') as file:\n",
    "    j = json.dumps(obj, indent=3)\n",
    "    \n",
    "    file.write(j)"
   ]
  },
  {
   "cell_type": "code",
   "execution_count": null,
   "id": "0983cebc-e0a7-4555-9788-7518b58fa779",
   "metadata": {},
   "outputs": [],
   "source": []
  },
  {
   "cell_type": "markdown",
   "id": "d94a2c60-5e05-430a-a012-8dc2ce52cd12",
   "metadata": {
    "tags": []
   },
   "source": [
    "### Extract Cable/Fiber Zips\n",
    "Extracts each zip downloaded, renames according to the fips code and if it's cable or fiber data"
   ]
  },
  {
   "cell_type": "code",
   "execution_count": 33,
   "id": "608cbc41-0e6c-4cd6-9d78-17b9a8c69922",
   "metadata": {},
   "outputs": [],
   "source": [
    "import json\n",
    "\n",
    "fip_path = os.path.abspath('../misc/fips.json')\n",
    "\n",
    "with open(fip_path, 'r') as file:\n",
    "    obj = json.loads(file.read())\n",
    "\n",
    "d_path = os.path.abspath('../FCC-DATA')\n",
    "directory = os.listdir(d_path)\n",
    "\n",
    "for d in directory:\n",
    "    if d[-3:] != 'zip':\n",
    "        continue\n",
    "        \n",
    "    fip = d[4:6]\n",
    "    f_path = f'{d_path}/{d}'\n",
    "    \n",
    "    if fip not in obj:\n",
    "        continue\n",
    "    \n",
    "    if 'Cable' in d:\n",
    "        with ZipFile(f_path, 'r') as zip:\n",
    "            f_name = zip.namelist()[0]\n",
    "            zip.extractall(path=d_path)\n",
    "        \n",
    "        os.rename(f'{d_path}/{f_name}', f'{d_path}/{obj[fip]}_cable.csv')\n",
    "            \n",
    "    elif 'Fiber' in d:\n",
    "        with ZipFile(f_path, 'r') as zip:\n",
    "            f_name = zip.namelist()[0]\n",
    "            zip.extractall(path=d_path)\n",
    "        \n",
    "        os.rename(f'{d_path}/{f_name}', f'{d_path}/{obj[fip]}_fiber.csv')\n",
    "    \n",
    "\n"
   ]
  },
  {
   "cell_type": "code",
   "execution_count": null,
   "id": "933bc6b3-b1c7-4980-a8d1-af10a9a2ac90",
   "metadata": {},
   "outputs": [],
   "source": []
  },
  {
   "cell_type": "markdown",
   "id": "4bad3f86-e877-4761-a457-2328ce79b6de",
   "metadata": {},
   "source": [
    "### Check to make sure I have all the data\n",
    "I should have 2 csvs for every state for a total of 51 entries (including DC)"
   ]
  },
  {
   "cell_type": "code",
   "execution_count": null,
   "id": "61d5dbd7-678d-40f5-aa7c-5922c8c7bce1",
   "metadata": {},
   "outputs": [],
   "source": [
    "from collections import defaultdict\n",
    "from pprint import pprint\n",
    "\n",
    "d_path = os.path.abspath('../FCC-DATA')\n",
    "directory = os.listdir(d_path)\n",
    "\n",
    "state_dict = defaultdict(int)\n",
    "\n",
    "for d in directory:\n",
    "    if d[-3:] != 'csv':\n",
    "        continue\n",
    "        \n",
    "    idx = d.index('_')\n",
    "    state_name = d[:idx]\n",
    "    \n",
    "    state_dict[state_name] += 1\n",
    "\n",
    "pprint(state_dict)\n",
    "print(len(state_dict))"
   ]
  },
  {
   "cell_type": "code",
   "execution_count": null,
   "id": "3cbaeeb1-f49e-4b4f-8e77-ed84fef30999",
   "metadata": {},
   "outputs": [],
   "source": []
  },
  {
   "cell_type": "markdown",
   "id": "02ff5862-6f57-4f7e-9da3-74002ea58aae",
   "metadata": {},
   "source": [
    "### Remove the zip files"
   ]
  },
  {
   "cell_type": "code",
   "execution_count": 37,
   "id": "4f9c7793-7ba8-41ea-9280-d2cb8559c316",
   "metadata": {},
   "outputs": [],
   "source": [
    "d_path = os.path.abspath('../FCC-DATA')\n",
    "directory = os.listdir(d_path)\n",
    "\n",
    "for d in directory:\n",
    "    if d[-3:] != 'zip':\n",
    "        continue\n",
    "    \n",
    "    os.remove(f'{d_path}/{d}')"
   ]
  },
  {
   "cell_type": "code",
   "execution_count": null,
   "id": "772ee334-d7a0-4544-a678-e72678be75ab",
   "metadata": {},
   "outputs": [],
   "source": []
  }
 ],
 "metadata": {
  "kernelspec": {
   "display_name": "Python 3 (ipykernel)",
   "language": "python",
   "name": "python3"
  },
  "language_info": {
   "codemirror_mode": {
    "name": "ipython",
    "version": 3
   },
   "file_extension": ".py",
   "mimetype": "text/x-python",
   "name": "python",
   "nbconvert_exporter": "python",
   "pygments_lexer": "ipython3",
   "version": "3.10.8"
  }
 },
 "nbformat": 4,
 "nbformat_minor": 5
}
