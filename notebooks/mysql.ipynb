{
 "cells": [
  {
   "cell_type": "code",
   "execution_count": 1,
   "id": "3c270a57-a45a-41a0-a863-9aa63be998be",
   "metadata": {},
   "outputs": [],
   "source": [
    "%load_ext autoreload\n",
    "%autoreload 2"
   ]
  },
  {
   "cell_type": "code",
   "execution_count": 2,
   "id": "83bfc2f1-6314-4512-bd0e-b830c82d3982",
   "metadata": {},
   "outputs": [],
   "source": [
    "import os\n",
    "from getpass import getpass\n",
    "from mysql.connector import connect, Error\n",
    "from dotenv import load_dotenv\n",
    "\n",
    "class MySQL:\n",
    "    \n",
    "    def __init__(self):\n",
    "        self.client = None\n",
    "        load_dotenv()\n",
    "    \n",
    "    def connect_client(self):\n",
    "        if self.client:\n",
    "            return self.client\n",
    "        \n",
    "        try:\n",
    "            self.client = connect(\n",
    "                host='localhost',\n",
    "                user=os.getenv('USERNAME'),\n",
    "                password=os.getenv('PASS'),\n",
    "                database='fcc',\n",
    "                allow_local_infile=True\n",
    "            )\n",
    "        except Error as e:\n",
    "            print(e)\n",
    "            raise Error\n",
    "        \n",
    "        return self.client\n",
    "    \n",
    "    def run(self, query):\n",
    "        if not self.client:\n",
    "            cli = self.connect_client()\n",
    "        else:\n",
    "            cli = self.client\n",
    "        \n",
    "        try:\n",
    "            with cli.cursor() as cursor:\n",
    "                cursor.execute(query)\n",
    "                cli.commit()\n",
    "                \n",
    "        except Error as e:\n",
    "            self.close_client()\n",
    "            print(e)\n",
    "            raise Error\n",
    "    \n",
    "    def run_multi(self, f_name):\n",
    "        if not self.client:\n",
    "            cli = self.connect_client()\n",
    "        else:\n",
    "            cli = self.client\n",
    "        \n",
    "        try:\n",
    "            directory = os.path.abspath('./sql')\n",
    "            \n",
    "            with open(f'{directory}/{f_name}') as file:\n",
    "                query = file.read()\n",
    "                with cli.cursor() as cursor:\n",
    "                    cursor.execute(query, multi=True)\n",
    "                    cli.commit()\n",
    "            \n",
    "        except Error as e:\n",
    "            self.close_client()\n",
    "            print(e)\n",
    "            raise Error\n",
    "    \n",
    "    def get_cursor(self, query):\n",
    "        if not self.client:\n",
    "            cli = self.connect_client()\n",
    "        else:\n",
    "            cli = self.client\n",
    "        \n",
    "        try:\n",
    "            cursor = cli.cursor()\n",
    "            cursor.execute(query)\n",
    "            return cursor\n",
    "        except Error as e:\n",
    "            self.close_client()\n",
    "            print(e)\n",
    "            return\n",
    "    \n",
    "    def close_client(self):\n",
    "        if not self.client:\n",
    "            return\n",
    "        \n",
    "        self.client.close()\n",
    "        self.client = None\n",
    "    \n"
   ]
  },
  {
   "cell_type": "code",
   "execution_count": 86,
   "id": "1e0d359d-2747-4d87-8853-3af0144132ed",
   "metadata": {},
   "outputs": [],
   "source": [
    "client = MySQL()"
   ]
  },
  {
   "cell_type": "code",
   "execution_count": 28,
   "id": "9aa29d2f-4bac-4204-bb11-f5385fa75d38",
   "metadata": {},
   "outputs": [],
   "source": [
    "client.connect_client()\n",
    "\n",
    "query = \"\"\"\n",
    "        CREATE TABLE test(\n",
    "            id INT NOT NULL AUTO_INCREMENT,\n",
    "            number INT,\n",
    "            text VARCHAR(100),\n",
    "            PRIMARY KEY (id)\n",
    "        )\n",
    "        \"\"\"\n",
    "\n",
    "query2 = \"\"\"\n",
    "        INSERT INTO test (number, text)\n",
    "        VALUES (10, \"Thingy\")\n",
    "        \"\"\"\n",
    "\n",
    "client.run(query2)\n"
   ]
  },
  {
   "cell_type": "code",
   "execution_count": 29,
   "id": "53dfe564-0586-48b7-8e69-af37848d4ff1",
   "metadata": {},
   "outputs": [],
   "source": [
    "client.close_client()"
   ]
  },
  {
   "cell_type": "code",
   "execution_count": null,
   "id": "19099014-9890-4f86-b8ea-c894901b5a77",
   "metadata": {},
   "outputs": [],
   "source": []
  },
  {
   "cell_type": "code",
   "execution_count": 89,
   "id": "88312c10-f022-47b2-8a80-fc6700bb7feb",
   "metadata": {},
   "outputs": [],
   "source": [
    "client = MySQL()"
   ]
  },
  {
   "cell_type": "code",
   "execution_count": null,
   "id": "e47c5548-e060-461c-ae88-0d6e3a9eda99",
   "metadata": {},
   "outputs": [],
   "source": [
    "client.run_multi('create_table.sql')\n",
    "client.close_client()"
   ]
  },
  {
   "cell_type": "code",
   "execution_count": 61,
   "id": "31183cf8-7df9-4770-a2f6-036cc43ba122",
   "metadata": {},
   "outputs": [],
   "source": [
    "client.run_multi('load_data_test.sql')\n",
    "client.close_client()"
   ]
  },
  {
   "cell_type": "code",
   "execution_count": 62,
   "id": "63c4fb1f-d232-4ef3-9f85-23e7435124da",
   "metadata": {},
   "outputs": [
    {
     "data": {
      "text/plain": [
       "'fiber'"
      ]
     },
     "execution_count": 62,
     "metadata": {},
     "output_type": "execute_result"
    }
   ],
   "source": [
    "test = 'ALABAMA_fiber.csv'\n",
    "idx = test.index('_')\n",
    "test[idx + 1:-4]"
   ]
  },
  {
   "cell_type": "code",
   "execution_count": null,
   "id": "98114a0c-bd8f-453c-ae5e-fa83c2b318d7",
   "metadata": {},
   "outputs": [],
   "source": []
  },
  {
   "cell_type": "markdown",
   "id": "82cda945-187a-4d0b-8eeb-0dbe2f8f629c",
   "metadata": {},
   "source": [
    "### Inserting Cable CSV data into MySQL table"
   ]
  },
  {
   "cell_type": "code",
   "execution_count": null,
   "id": "bca65da4-d902-4cfa-afdd-6b4cdc7f657d",
   "metadata": {},
   "outputs": [],
   "source": [
    "d_path = os.path.abspath('../FCC-DATA')\n",
    "directory = os.listdir(d_path)\n",
    "directory.sort()\n",
    "\n",
    "for d in directory:\n",
    "    if d[-1] != 'v':\n",
    "        continue\n",
    "        \n",
    "    idx = d.index('_') + 1\n",
    "    \n",
    "    if d[idx:-4] == 'fiber':\n",
    "        continue\n",
    "    \n",
    "    query = f\"\"\"\n",
    "        LOAD DATA LOCAL INFILE '{d_path}/{d}'\n",
    "        INTO TABLE cable\n",
    "        FIELDS TERMINATED BY ','\n",
    "        ENCLOSED BY '\"'\n",
    "        LINES TERMINATED BY '\\n'\n",
    "        IGNORE 1 ROWS\n",
    "        (provider_id, frn, brand_name, location_id, block_fips, h3index_hex8, technology_code, max_advertised_download_speed, max_advertised_upload_speed, low_latency, business_residential_code);\n",
    "        \"\"\"\n",
    "    \n",
    "    try:\n",
    "        client.run(query)\n",
    "        print(f'{d} complete')\n",
    "    except:\n",
    "        print(f'{d} error')\n",
    "        break\n",
    "    "
   ]
  },
  {
   "cell_type": "code",
   "execution_count": null,
   "id": "9a326ff2-94c8-4713-b258-f6bdb14a195a",
   "metadata": {},
   "outputs": [],
   "source": []
  },
  {
   "cell_type": "markdown",
   "id": "0f3033c9-9234-4370-aba3-c93b6100cc2e",
   "metadata": {},
   "source": [
    "### Inserting Fiber CSV data into MySQL table"
   ]
  },
  {
   "cell_type": "code",
   "execution_count": null,
   "id": "1bba9deb-0e99-4ddf-8dff-356dea72c792",
   "metadata": {},
   "outputs": [],
   "source": [
    "d_path = os.path.abspath('../FCC-DATA')\n",
    "directory = os.listdir(d_path)\n",
    "directory.sort()\n",
    "\n",
    "for d in directory:\n",
    "    if d[-1] != 'v':\n",
    "        continue\n",
    "        \n",
    "    idx = d.index('_') + 1\n",
    "    \n",
    "    if d[idx:-4] == 'cable':\n",
    "        continue\n",
    "    \n",
    "    query = f\"\"\"\n",
    "        LOAD DATA LOCAL INFILE '{d_path}/{d}'\n",
    "        INTO TABLE fiber\n",
    "        FIELDS TERMINATED BY ','\n",
    "        ENCLOSED BY '\"'\n",
    "        LINES TERMINATED BY '\\n'\n",
    "        IGNORE 1 ROWS\n",
    "        (provider_id, frn, brand_name, location_id, block_fips, h3index_hex8, technology_code, max_advertised_download_speed, max_advertised_upload_speed, low_latency, business_residential_code);\n",
    "        \"\"\"\n",
    "\n",
    "    try:\n",
    "        client.run(query)\n",
    "        print(f'{d} complete')\n",
    "    except:\n",
    "        print(f'{d} error')\n",
    "        break"
   ]
  },
  {
   "cell_type": "code",
   "execution_count": null,
   "id": "40eed7bc-b155-4ea9-8a44-454baedb2c47",
   "metadata": {},
   "outputs": [],
   "source": []
  },
  {
   "cell_type": "code",
   "execution_count": null,
   "id": "bf8951b4-e7e0-4aca-b136-651141ae0634",
   "metadata": {},
   "outputs": [],
   "source": []
  },
  {
   "cell_type": "code",
   "execution_count": 78,
   "id": "bf7f3b4c-4e6b-4370-9920-361417c77737",
   "metadata": {},
   "outputs": [],
   "source": [
    "make_table = \"\"\"\n",
    "    CREATE TABLE Geography(\n",
    "        id INT NOT NULL AUTO_INCREMENT,\n",
    "        geography_type VARCHAR(100),\n",
    "        geography_id INT,\n",
    "        geography_desc VARCHAR(100),\n",
    "        geography_desc_full VARCHAR(100),\n",
    "        data_type VARCHAR(100),\n",
    "        provider_id INT,\n",
    "        res_st_pct DECIMAL(5,4),\n",
    "        bus_iv_pct DECIMAL(5,4),\n",
    "        PRIMARY KEY (id)\n",
    "    )\n",
    "    \"\"\"\n",
    "\n",
    "client.run(make_table)"
   ]
  },
  {
   "cell_type": "code",
   "execution_count": 79,
   "id": "c1a45a2c-5b57-4e7f-bec7-3d33f285bed8",
   "metadata": {},
   "outputs": [],
   "source": [
    "f_path = os.path.abspath('../GEO-DATA/bdc_us_provider_summary_by_geography_063022.csv')\n",
    "\n",
    "query = f\"\"\"\n",
    "    LOAD DATA LOCAL INFILE '{f_path}'\n",
    "    INTO TABLE Geography\n",
    "    FIELDS TERMINATED BY ','\n",
    "    ENCLOSED BY '\"'\n",
    "    LINES TERMINATED BY '\\n'\n",
    "    IGNORE 1 ROWS\n",
    "    (geography_type, geography_id, geography_desc, geography_desc_full, data_type, provider_id, res_st_pct, bus_iv_pct);\n",
    "    \"\"\"\n",
    "\n",
    "client.run(query)"
   ]
  },
  {
   "cell_type": "code",
   "execution_count": null,
   "id": "1f47549f-dd2f-4b44-99cc-db7905d823fb",
   "metadata": {},
   "outputs": [],
   "source": []
  },
  {
   "cell_type": "code",
   "execution_count": 82,
   "id": "02f65fe1-d811-4237-92d2-15358efc9b0e",
   "metadata": {},
   "outputs": [],
   "source": [
    "ri_table = \"\"\"\n",
    "    CREATE TABLE ri_cable(\n",
    "    id INT NOT NULL AUTO_INCREMENT,\n",
    "    provider_id INT,\n",
    "    frn VARCHAR(15),\n",
    "    brand_name VARCHAR(100),\n",
    "    location_id VARCHAR(100),\n",
    "    block_fips VARCHAR(20),\n",
    "    h3index_hex8 VARCHAR(100),\n",
    "    technology_code INT,\n",
    "    max_advertised_download_speed INT,\n",
    "    max_advertised_upload_speed INT,\n",
    "    low_latency INT,\n",
    "    business_residential_code VARCHAR(5),\n",
    "    PRIMARY KEY (id)\n",
    ");\n",
    "    \"\"\"\n",
    "\n",
    "client.run(ri_table)"
   ]
  },
  {
   "cell_type": "code",
   "execution_count": 84,
   "id": "1bae1397-fb6f-499a-8ec9-7c3fddf7a14d",
   "metadata": {},
   "outputs": [],
   "source": [
    "client.run_multi('load_data_test.sql')"
   ]
  },
  {
   "cell_type": "code",
   "execution_count": null,
   "id": "1d9411b7-21cc-4cf5-a978-9009a5052f58",
   "metadata": {},
   "outputs": [],
   "source": []
  },
  {
   "cell_type": "code",
   "execution_count": null,
   "id": "f0e8e6a1-e9be-4671-b487-e69f57e213b9",
   "metadata": {},
   "outputs": [],
   "source": [
    "query = \"\"\"\n",
    "    CREATE\n",
    "    \"\"\"\n",
    "\n",
    "cursor = client.get_cursor(query)\n",
    "\n",
    "for provider_id,brand_name in cursor:\n",
    "    print(f'{provider_id} {brand_name}')\n",
    "\n",
    "cursor.close()"
   ]
  },
  {
   "cell_type": "code",
   "execution_count": null,
   "id": "8c9ab00b-51ca-413c-a7d2-2d2c323186df",
   "metadata": {},
   "outputs": [],
   "source": []
  },
  {
   "cell_type": "code",
   "execution_count": 53,
   "id": "751af827-9b5d-4c7e-9402-afb2ff0517ea",
   "metadata": {},
   "outputs": [],
   "source": [
    "import h3.api.numpy_int as h3\n",
    "import requests\n",
    "from IPython.display import clear_output\n",
    "import time\n",
    "from pprint import pprint\n",
    "\n",
    "class LocationData(MySQL):\n",
    "    \n",
    "    def __init__(self):\n",
    "        super().__init__()\n",
    "    \n",
    "    def get_data(self):\n",
    "        if not self.client:\n",
    "            cli = self.connect_client()\n",
    "        else:\n",
    "            cli = self.client\n",
    "        \n",
    "        query = \"\"\"\n",
    "            SELECT DISTINCT h3index_hex8\n",
    "            FROM cable\n",
    "            LIMIT 8000\n",
    "            OFFSET 2000;\n",
    "            \"\"\"\n",
    "\n",
    "        try:\n",
    "            c1 = cli.cursor(buffered = True)\n",
    "            c2 = cli.cursor(buffered = True)\n",
    "            \n",
    "            print('Loading data..')\n",
    "            c1.execute(query)\n",
    "            \n",
    "            print('Done')\n",
    "            time.sleep(2)\n",
    "            \n",
    "            count, start = 2000, time.time()\n",
    "\n",
    "            for (h3index_hex8) in c1:\n",
    "                h = h3index_hex8[0]\n",
    "                \n",
    "                dur = time.time() - start\n",
    "                clear_output(wait = True)\n",
    "\n",
    "                print(f'Working {count} / 1,086,137')\n",
    "                print(time.strftime('%H:%M:%S', time.gmtime(dur)))\n",
    "                \n",
    "                (lat,lon) = h3.h3_to_geo(h3.string_to_h3(h))\n",
    "                (city, state) = self.get_loc_data(lat, lon)\n",
    "\n",
    "                add_data = f\"\"\"\n",
    "                    INSERT IGNORE INTO location (hex_num, city_town, state)\n",
    "                    VALUES('{h}', '{city}', '{state}');\n",
    "                    \"\"\"\n",
    "\n",
    "                c2.execute(add_data)\n",
    "                cli.commit()\n",
    "                count += 1\n",
    "                \n",
    "        except (Error, Exception) as e:\n",
    "            print(e)\n",
    "\n",
    "            self.close_client()\n",
    "            return\n",
    "            \n",
    "        \n",
    "        c1.close()\n",
    "        c2.close()\n",
    "        self.close_client()\n",
    "    \n",
    "    def get_loc_data(self, lat, lon):\n",
    "        params = {\n",
    "            'x': lon,\n",
    "            'y': lat,\n",
    "            'benchmark': 'Public_AR_Current',\n",
    "            'vintage': 'Current_Current',\n",
    "            'format': 'json'\n",
    "        }\n",
    "        \n",
    "        try:\n",
    "\n",
    "            r = requests.get('https://geocoding.geo.census.gov/geocoder/geographies/coordinates', params=params).json()\n",
    "\n",
    "            state = r['result']['geographies']['States'][0]['STUSAB']\n",
    "            city = r['result']['geographies']['County Subdivisions'][0]['NAME']\n",
    "        \n",
    "        except Exception as e:\n",
    "            raise e\n",
    "\n",
    "        return (city, state)\n"
   ]
  },
  {
   "cell_type": "code",
   "execution_count": 54,
   "id": "c06279f1-d9e5-4c6a-b698-621ce78f8dc5",
   "metadata": {},
   "outputs": [
    {
     "name": "stdout",
     "output_type": "stream",
     "text": [
      "Working 910 / 1,086,137\n",
      "00:05:10\n"
     ]
    }
   ],
   "source": [
    "ld = LocationData()\n",
    "ld.get_data()"
   ]
  },
  {
   "cell_type": "code",
   "execution_count": null,
   "id": "e9f71a5b-2b62-4003-ab7d-c559d335508e",
   "metadata": {},
   "outputs": [],
   "source": []
  }
 ],
 "metadata": {
  "kernelspec": {
   "display_name": "Python 3 (ipykernel)",
   "language": "python",
   "name": "python3"
  },
  "language_info": {
   "codemirror_mode": {
    "name": "ipython",
    "version": 3
   },
   "file_extension": ".py",
   "mimetype": "text/x-python",
   "name": "python",
   "nbconvert_exporter": "python",
   "pygments_lexer": "ipython3",
   "version": "3.10.8"
  }
 },
 "nbformat": 4,
 "nbformat_minor": 5
}
