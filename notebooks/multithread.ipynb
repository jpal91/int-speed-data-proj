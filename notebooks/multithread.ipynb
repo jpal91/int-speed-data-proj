{
 "cells": [
  {
   "cell_type": "code",
   "execution_count": 19,
   "id": "d11bd638-59f8-4f36-bfde-54f0ce4bb174",
   "metadata": {},
   "outputs": [
    {
     "name": "stdout",
     "output_type": "stream",
     "text": [
      "Start\n",
      "End 52.425944328308105 Secs\n"
     ]
    }
   ],
   "source": [
    "from random import random\n",
    "import time\n",
    "\n",
    "def f(x):\n",
    "    # start = time.time()\n",
    "    time.sleep(x)\n",
    "    # print(f'{time.time() - start} secs')\n",
    "    return\n",
    "\n",
    "print('Start')\n",
    "start = time.time()\n",
    "q = [random() for _ in range(100)]\n",
    "\n",
    "for n in q:\n",
    "    f(n)\n",
    "\n",
    "print(f'End {time.time() - start} Secs')\n"
   ]
  },
  {
   "cell_type": "code",
   "execution_count": 20,
   "id": "c7c81c62-45c1-431d-be87-600989b60878",
   "metadata": {},
   "outputs": [
    {
     "name": "stdout",
     "output_type": "stream",
     "text": [
      "Start\n",
      "End 14.153250455856323 Secs\n"
     ]
    }
   ],
   "source": [
    "from multiprocessing import Pool\n",
    "\n",
    "def fu(x):\n",
    "    # start = time.time()\n",
    "    time.sleep(x)\n",
    "    # print(f'{time.time() - start} secs')\n",
    "    return\n",
    "\n",
    "print('Start')\n",
    "start = time.time()\n",
    "\n",
    "with Pool(processes=4) as pool:\n",
    "    # q = [random() for _ in range(5)]\n",
    "    pool.map(fu, [random() for _ in range(100)])\n",
    "\n",
    "print(f'End {time.time() - start} Secs')"
   ]
  },
  {
   "cell_type": "code",
   "execution_count": null,
   "id": "7fe0ffd5-fd3e-4cd8-9401-52d7cb2f98d7",
   "metadata": {},
   "outputs": [],
   "source": []
  },
  {
   "cell_type": "code",
   "execution_count": 10,
   "id": "6159dc59-8802-4778-8c69-95e0cd0d0491",
   "metadata": {},
   "outputs": [],
   "source": [
    "queue = ['88445a5457fffff',\n",
    "'88445a54e3fffff',\n",
    "'88445a54e9fffff',\n",
    "'88445a54ebfffff',\n",
    "'88445a5601fffff',\n",
    "'88445a5607fffff',\n",
    "'88445a5647fffff',\n",
    "'88445a566bfffff',\n",
    "'8844e82821fffff']"
   ]
  },
  {
   "cell_type": "code",
   "execution_count": 27,
   "id": "3dc3ff89-2333-4020-9057-940b2246430f",
   "metadata": {},
   "outputs": [],
   "source": [
    "import h3.api.numpy_int as h3\n",
    "import requests\n",
    "\n",
    "def get_loc_data(hex8):\n",
    "    (lat,lon) = h3.h3_to_geo(h3.string_to_h3(hex8))\n",
    "    \n",
    "    params = {\n",
    "        'x': lon,\n",
    "        'y': lat,\n",
    "        'benchmark': 'Public_AR_Current',\n",
    "        'vintage': 'Current_Current',\n",
    "        'format': 'json'\n",
    "    }\n",
    "\n",
    "    retries = 3\n",
    "    complete = False\n",
    "\n",
    "    while not complete:\n",
    "        try:\n",
    "\n",
    "            r = requests.get('https://geocoding.geo.census.gov/geocoder/geographies/coordinates', params=params).json()\n",
    "\n",
    "            state = r['result']['geographies']['States'][0]['STUSAB']\n",
    "            city = r['result']['geographies']['County Subdivisions'][0]['NAME']\n",
    "\n",
    "        except Exception as e:\n",
    "            print(e)\n",
    "        else:\n",
    "            complete = True\n",
    "            return (city, state)\n",
    "        finally:\n",
    "            if not complete and retries:\n",
    "                retries -= 1\n",
    "            elif not complete and not retries:\n",
    "                return None"
   ]
  },
  {
   "cell_type": "code",
   "execution_count": 47,
   "id": "2b74e8ef-ca71-4a50-b601-4039a87f813d",
   "metadata": {},
   "outputs": [],
   "source": [
    "def check(args):\n",
    "    a = [*args]\n",
    "    start = time.time()\n",
    "    c_s = get_loc_data(a[1])\n",
    "    return f'Task {a[0]}: {c_s} in {time.time() - start} secs\\n'\n",
    "    "
   ]
  },
  {
   "cell_type": "code",
   "execution_count": null,
   "id": "6dc65a2c-c189-4dcd-a18c-d6c9b4d1b075",
   "metadata": {
    "scrolled": true,
    "tags": []
   },
   "outputs": [],
   "source": [
    "new_queue = queue * 10\n",
    "with Pool(processes=4) as pool:\n",
    "    start = time.time()\n",
    "    imap = pool.imap(check, [(i, q) for i,q in enumerate(new_queue)], chunksize=10)\n",
    "    \n",
    "    for x in imap:\n",
    "        print(x)\n",
    "\n",
    "print(f'Complete {time.time() - start} secs')"
   ]
  },
  {
   "cell_type": "code",
   "execution_count": 45,
   "id": "a5060aa2-1fcd-45ce-ac49-9adef8f8e472",
   "metadata": {},
   "outputs": [
    {
     "name": "stdout",
     "output_type": "stream",
     "text": [
      "['88445a5457fffff', '88445a54e3fffff', '88445a54e9fffff', '88445a54ebfffff', '88445a5601fffff', '88445a5607fffff', '88445a5647fffff', '88445a566bfffff', '8844e82821fffff', '88445a5457fffff', '88445a54e3fffff', '88445a54e9fffff', '88445a54ebfffff', '88445a5601fffff', '88445a5607fffff', '88445a5647fffff', '88445a566bfffff', '8844e82821fffff']\n"
     ]
    }
   ],
   "source": [
    "new_queue = queue * 2\n",
    "print(new_queue)"
   ]
  },
  {
   "cell_type": "code",
   "execution_count": 57,
   "id": "d5952713-6e2c-4bb3-b209-54324a183469",
   "metadata": {},
   "outputs": [
    {
     "name": "stdout",
     "output_type": "stream",
     "text": [
      "Task 10 complete \n",
      "\n",
      "Task 20 complete \n",
      "\n",
      "Task 30 complete \n",
      "\n",
      "Task 40 complete \n",
      "\n",
      "Task 50 complete \n",
      "\n",
      "Task 60 complete \n",
      "\n",
      "Task 70 complete \n",
      "\n",
      "Task 80 complete \n",
      "\n",
      "Task 90 complete \n",
      "\n",
      "Task 100 complete \n",
      "\n"
     ]
    }
   ],
   "source": [
    "import os\n",
    "import csv\n",
    "import h3.api.numpy_int as h3\n",
    "import requests\n",
    "from multiprocessing import Pool\n",
    "\n",
    "queue = []\n",
    "done_q = []\n",
    "\n",
    "with open('../mt/csv/cable_202211281042.csv') as csv_file:\n",
    "    csv_read = csv.reader(csv_file, delimiter=',')\n",
    "    \n",
    "    for i,row in enumerate(csv_read):\n",
    "        if i == 0:\n",
    "            continue\n",
    "        queue.append((i, row[0]))\n",
    "    \n",
    "\n",
    "def run(args):\n",
    "    i, h8 = args\n",
    "    \n",
    "    c_s = get_loc_data(h8)\n",
    "    \n",
    "    if c_s:\n",
    "        city, state = c_s\n",
    "        return (i, h8, city, state)\n",
    "    else:\n",
    "        return None\n",
    "\n",
    "\n",
    "def get_loc_data(hex8):\n",
    "    (lat,lon) = h3.h3_to_geo(h3.string_to_h3(hex8))\n",
    "    \n",
    "    params = {\n",
    "        'x': lon,\n",
    "        'y': lat,\n",
    "        'benchmark': 'Public_AR_Current',\n",
    "        'vintage': 'Current_Current',\n",
    "        'format': 'json'\n",
    "    }\n",
    "\n",
    "    retries = 3\n",
    "    complete = False\n",
    "\n",
    "    while not complete:\n",
    "        try:\n",
    "\n",
    "            r = requests.get('https://geocoding.geo.census.gov/geocoder/geographies/coordinates', params=params).json()\n",
    "\n",
    "            state = r['result']['geographies']['States'][0]['STUSAB']\n",
    "            city = r['result']['geographies']['County Subdivisions'][0]['NAME']\n",
    "\n",
    "        except Exception as e:\n",
    "            print(e)\n",
    "        else:\n",
    "            complete = True\n",
    "            return (city, state)\n",
    "        finally:\n",
    "            if not complete and retries:\n",
    "                retries -= 1\n",
    "            elif not complete and not retries:\n",
    "                return None\n",
    "\n",
    "\n",
    "with Pool(processes=4) as pool:\n",
    "    imap = pool.imap(run, queue, chunksize=10)\n",
    "    \n",
    "    for m in imap:\n",
    "        if not m:\n",
    "            continue\n",
    "        else:\n",
    "            i, h8, city, state = m\n",
    "            done_q.append((h8, city, state))\n",
    "            \n",
    "            if not i % 10:\n",
    "                print(f'Task {i} complete \\n')\n",
    "\n",
    "with open('../mt/csv/first_100.csv', mode='w') as csv_file:\n",
    "    csv_write = csv.writer(csv_file, delimiter=',', quotechar='\"', quoting=csv.QUOTE_MINIMAL)\n",
    "    \n",
    "    csv_write.writerow(['hex8', 'city', 'state'])\n",
    "    \n",
    "    for d in done_q:\n",
    "        h8, city, state = d\n",
    "        csv_write.writerow([h8, city, state])\n",
    "            "
   ]
  },
  {
   "cell_type": "code",
   "execution_count": 53,
   "id": "9e6eeecb-330c-49b4-9686-5487a7d1252c",
   "metadata": {},
   "outputs": [
    {
     "data": {
      "text/plain": [
       "(33.57544449136207, -88.27223597175066)"
      ]
     },
     "execution_count": 53,
     "metadata": {},
     "output_type": "execute_result"
    }
   ],
   "source": [
    "import h3.api.numpy_int as h3\n",
    "(lat,lon) = h3.h3_to_geo(h3.string_to_h3('88445a54ebfffff'))\n",
    "# hex8 = h3.geo_to_h3(41.083064, -81.518485, 8)\n",
    "# h3.h3_to_string(hex8)\n",
    "# h3.h3_get_resolution(h3.string_to_h3('88445a5457fffff'))\n",
    "(lat, lon)"
   ]
  },
  {
   "cell_type": "code",
   "execution_count": null,
   "id": "1721bef7-53ee-4b89-9732-122f375d355c",
   "metadata": {},
   "outputs": [],
   "source": []
  },
  {
   "cell_type": "code",
   "execution_count": 42,
   "id": "ed23bf60-666a-4bed-81a3-05e69d28b1fe",
   "metadata": {},
   "outputs": [],
   "source": [
    "import os\n",
    "import csv\n",
    "import h3.api.numpy_int as h3\n",
    "import requests\n",
    "from multiprocessing import Pool\n",
    "from IPython.display import clear_output\n",
    "\n",
    "\n",
    "class MultiT:\n",
    "    \n",
    "    def __init__(self):\n",
    "        self.queue = []\n",
    "        self.done_q = []\n",
    "        self.errors = []\n",
    "        self.start = time.time()\n",
    "        self.end = None\n",
    "    \n",
    "    def open_csv(self, f_name):\n",
    "\n",
    "        with open(f_name) as csv_file:\n",
    "            csv_read = csv.reader(csv_file, delimiter=',')\n",
    "\n",
    "            for i,row in enumerate(csv_read):\n",
    "                if i == 0:\n",
    "                    continue\n",
    "                self.queue.append((i, row[0]))\n",
    "    \n",
    "\n",
    "    def run(self, args):\n",
    "        i, h8 = args\n",
    "\n",
    "        c_s = self.get_loc_data(h8)\n",
    "\n",
    "        if c_s:\n",
    "            city, state = c_s\n",
    "            return (i, h8, city, state)\n",
    "        else:\n",
    "            return None\n",
    "\n",
    "\n",
    "    def get_loc_data(self, hex8):\n",
    "        (lat,lon) = h3.h3_to_geo(h3.string_to_h3(hex8))\n",
    "\n",
    "        params = {\n",
    "            'lon': lon,\n",
    "            'lat': lat,\n",
    "            'format': 'geojson'\n",
    "        }\n",
    "\n",
    "        try:\n",
    "\n",
    "            r = requests.get('http://localhost:8080/reverse.php', params=params).json()\n",
    "            r = r['features'][0]['properties']\n",
    "\n",
    "            state = r['address']['ISO3166-2-lvl4'][-2:]\n",
    "            c_type = r['type']\n",
    "\n",
    "            if r['address']['city']:\n",
    "                city = r['address']['city']\n",
    "            elif r['address']['town']:\n",
    "                city = r['address']['town']\n",
    "            else:\n",
    "                city = r['address'][c_type]\n",
    "\n",
    "        except Exception as e:\n",
    "            self.errors.append(hex8)\n",
    "            return None\n",
    "        else:\n",
    "            return (city, state)\n",
    "\n",
    "    def pool(self, processes):\n",
    "\n",
    "        with Pool(processes=processes) as pool:\n",
    "            imap = pool.imap(self.run, self.queue, chunksize=10)\n",
    "\n",
    "            for m in imap:\n",
    "                if not m:\n",
    "                    continue\n",
    "                else:\n",
    "                    i, h8, city, state = m\n",
    "                    self.done_q.append((h8, city, state))\n",
    "\n",
    "                    if not i % 10:\n",
    "                        clear_output(wait=True)\n",
    "                        print(f'Task {i} complete in {time.time() - self.start} secs')\n",
    "        \n",
    "        self.end = time.time()\n",
    "    \n",
    "    def write(self, f_name):\n",
    "\n",
    "        with open(f_name, mode='w') as csv_file:\n",
    "            csv_write = csv.writer(csv_file, delimiter=',', quotechar='\"', quoting=csv.QUOTE_MINIMAL)\n",
    "\n",
    "            csv_write.writerow(['hex8', 'city', 'state'])\n",
    "\n",
    "            for d in self.done_q:\n",
    "                h8, city, state = d\n",
    "                csv_write.writerow([h8, city, state])\n",
    "        \n",
    "        with open('../mt/csv/errors.log', 'w') as e_log:\n",
    "            e_log.writelines(self.errors)\n",
    "        \n",
    "        print(f'Done in {self.end - self.start} secs with {len(self.errors)} errors')"
   ]
  },
  {
   "cell_type": "code",
   "execution_count": 43,
   "id": "fa1d1429-bd1b-46bf-963a-649d01e93bed",
   "metadata": {},
   "outputs": [],
   "source": [
    "mt = MultiT()\n",
    "mt.open_csv('../mt/csv/200k-210k.csv')\n"
   ]
  },
  {
   "cell_type": "code",
   "execution_count": 44,
   "id": "b946b0ce-e6b7-4a75-a81d-019efa10128d",
   "metadata": {},
   "outputs": [
    {
     "name": "stdout",
     "output_type": "stream",
     "text": [
      "Task 9770 complete in 249.779620885849 secs\n"
     ]
    }
   ],
   "source": [
    "mt.pool(2)"
   ]
  },
  {
   "cell_type": "code",
   "execution_count": 45,
   "id": "7db3fa6b-71d6-4e3c-8225-d63987071106",
   "metadata": {},
   "outputs": [
    {
     "name": "stdout",
     "output_type": "stream",
     "text": [
      "Done in 255.94881629943848 secs with 0 errors\n"
     ]
    }
   ],
   "source": [
    "mt.write('../mt/csv/final_200k-210k.csv')"
   ]
  },
  {
   "cell_type": "code",
   "execution_count": 52,
   "id": "00b8b404-c5fe-4b65-851f-2887e4c16131",
   "metadata": {},
   "outputs": [
    {
     "data": {
      "text/plain": [
       "['Asheville', ' NC']"
      ]
     },
     "execution_count": 52,
     "metadata": {},
     "output_type": "execute_result"
    }
   ],
   "source": [
    "'Asheville, NC'.split(',')"
   ]
  },
  {
   "cell_type": "code",
   "execution_count": null,
   "id": "edf009df-4b2d-46ef-a6e1-bbeed84b1339",
   "metadata": {},
   "outputs": [],
   "source": []
  }
 ],
 "metadata": {
  "kernelspec": {
   "display_name": "Python 3 (ipykernel)",
   "language": "python",
   "name": "python3"
  },
  "language_info": {
   "codemirror_mode": {
    "name": "ipython",
    "version": 3
   },
   "file_extension": ".py",
   "mimetype": "text/x-python",
   "name": "python",
   "nbconvert_exporter": "python",
   "pygments_lexer": "ipython3",
   "version": "3.10.8"
  }
 },
 "nbformat": 4,
 "nbformat_minor": 5
}
